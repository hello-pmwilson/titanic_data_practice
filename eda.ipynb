{
 "cells": [
  {
   "cell_type": "markdown",
   "id": "82feae05",
   "metadata": {},
   "source": [
    "# Titanic - Remember Hoe to Datascience  \n",
    "This project utilizes the Titanic dataset, Kaggle, to predict passenger suvivorship during the Titanic tragedy. Along the way I will ideally remember how to datascience and build good documentation habits. \n"
   ]
  },
  {
   "cell_type": "code",
   "execution_count": 2,
   "id": "b385a1c1",
   "metadata": {},
   "outputs": [],
   "source": [
    "#Import Libraries\n",
    "import numpy as np\n",
    "import pandas as pd\n",
    "import seaborn as sns\n",
    "import matplotlib.pyplot as plt"
   ]
  },
  {
   "cell_type": "code",
   "execution_count": 3,
   "id": "e70363dc",
   "metadata": {},
   "outputs": [],
   "source": [
    "#Import the data\n",
    "train_data_path = 'data/train.csv'\n",
    "test_data_path = 'data/test.csv'\n",
    "\n",
    "training = pd.read_csv(train_data_path)\n",
    "testing = pd.read_csv(test_data_path)"
   ]
  },
  {
   "cell_type": "markdown",
   "id": "f13293ff",
   "metadata": {},
   "source": [
    "### Exploratory Data Analysis\n"
   ]
  },
  {
   "cell_type": "code",
   "execution_count": 4,
   "id": "c195b313",
   "metadata": {},
   "outputs": [
    {
     "name": "stdout",
     "output_type": "stream",
     "text": [
      "<class 'pandas.core.frame.DataFrame'>\n",
      "RangeIndex: 891 entries, 0 to 890\n",
      "Data columns (total 12 columns):\n",
      " #   Column       Non-Null Count  Dtype  \n",
      "---  ------       --------------  -----  \n",
      " 0   PassengerId  891 non-null    int64  \n",
      " 1   Survived     891 non-null    int64  \n",
      " 2   Pclass       891 non-null    int64  \n",
      " 3   Name         891 non-null    object \n",
      " 4   Sex          891 non-null    object \n",
      " 5   Age          714 non-null    float64\n",
      " 6   SibSp        891 non-null    int64  \n",
      " 7   Parch        891 non-null    int64  \n",
      " 8   Ticket       891 non-null    object \n",
      " 9   Fare         891 non-null    float64\n",
      " 10  Cabin        204 non-null    object \n",
      " 11  Embarked     889 non-null    object \n",
      "dtypes: float64(2), int64(5), object(5)\n",
      "memory usage: 83.7+ KB\n"
     ]
    }
   ],
   "source": [
    "#look at data type and null counts\n",
    "training.info()"
   ]
  },
  {
   "cell_type": "markdown",
   "id": "91b4e84e",
   "metadata": {},
   "source": [
    ".info() prints a summary of the dataframe including information about the DataFrame.  \n",
    "- Class: class type of the DataFrame\n",
    "- RangeIndex: the number of entries, the range of the index\n",
    "- Columns: list of the columns in the df, their types, and number of non-null values\n",
    "- #: index of the column\n",
    "- Dtype: the data type of the column, note: object is for strings (or mixed) types\n",
    "- Dtype Summary: how many columns there are of each data type  "
   ]
  },
  {
   "cell_type": "markdown",
   "id": "759ad37a",
   "metadata": {},
   "source": [
    "### Descriptive Statistics"
   ]
  },
  {
   "cell_type": "code",
   "execution_count": 5,
   "id": "e9944b2f",
   "metadata": {},
   "outputs": [
    {
     "data": {
      "text/html": [
       "<div>\n",
       "<style scoped>\n",
       "    .dataframe tbody tr th:only-of-type {\n",
       "        vertical-align: middle;\n",
       "    }\n",
       "\n",
       "    .dataframe tbody tr th {\n",
       "        vertical-align: top;\n",
       "    }\n",
       "\n",
       "    .dataframe thead th {\n",
       "        text-align: right;\n",
       "    }\n",
       "</style>\n",
       "<table border=\"1\" class=\"dataframe\">\n",
       "  <thead>\n",
       "    <tr style=\"text-align: right;\">\n",
       "      <th></th>\n",
       "      <th>PassengerId</th>\n",
       "      <th>Survived</th>\n",
       "      <th>Pclass</th>\n",
       "      <th>Age</th>\n",
       "      <th>SibSp</th>\n",
       "      <th>Parch</th>\n",
       "      <th>Fare</th>\n",
       "    </tr>\n",
       "  </thead>\n",
       "  <tbody>\n",
       "    <tr>\n",
       "      <th>count</th>\n",
       "      <td>891.000000</td>\n",
       "      <td>891.000000</td>\n",
       "      <td>891.000000</td>\n",
       "      <td>714.000000</td>\n",
       "      <td>891.000000</td>\n",
       "      <td>891.000000</td>\n",
       "      <td>891.000000</td>\n",
       "    </tr>\n",
       "    <tr>\n",
       "      <th>mean</th>\n",
       "      <td>446.000000</td>\n",
       "      <td>0.383838</td>\n",
       "      <td>2.308642</td>\n",
       "      <td>29.699118</td>\n",
       "      <td>0.523008</td>\n",
       "      <td>0.381594</td>\n",
       "      <td>32.204208</td>\n",
       "    </tr>\n",
       "    <tr>\n",
       "      <th>std</th>\n",
       "      <td>257.353842</td>\n",
       "      <td>0.486592</td>\n",
       "      <td>0.836071</td>\n",
       "      <td>14.526497</td>\n",
       "      <td>1.102743</td>\n",
       "      <td>0.806057</td>\n",
       "      <td>49.693429</td>\n",
       "    </tr>\n",
       "    <tr>\n",
       "      <th>min</th>\n",
       "      <td>1.000000</td>\n",
       "      <td>0.000000</td>\n",
       "      <td>1.000000</td>\n",
       "      <td>0.420000</td>\n",
       "      <td>0.000000</td>\n",
       "      <td>0.000000</td>\n",
       "      <td>0.000000</td>\n",
       "    </tr>\n",
       "    <tr>\n",
       "      <th>25%</th>\n",
       "      <td>223.500000</td>\n",
       "      <td>0.000000</td>\n",
       "      <td>2.000000</td>\n",
       "      <td>20.125000</td>\n",
       "      <td>0.000000</td>\n",
       "      <td>0.000000</td>\n",
       "      <td>7.910400</td>\n",
       "    </tr>\n",
       "    <tr>\n",
       "      <th>50%</th>\n",
       "      <td>446.000000</td>\n",
       "      <td>0.000000</td>\n",
       "      <td>3.000000</td>\n",
       "      <td>28.000000</td>\n",
       "      <td>0.000000</td>\n",
       "      <td>0.000000</td>\n",
       "      <td>14.454200</td>\n",
       "    </tr>\n",
       "    <tr>\n",
       "      <th>75%</th>\n",
       "      <td>668.500000</td>\n",
       "      <td>1.000000</td>\n",
       "      <td>3.000000</td>\n",
       "      <td>38.000000</td>\n",
       "      <td>1.000000</td>\n",
       "      <td>0.000000</td>\n",
       "      <td>31.000000</td>\n",
       "    </tr>\n",
       "    <tr>\n",
       "      <th>max</th>\n",
       "      <td>891.000000</td>\n",
       "      <td>1.000000</td>\n",
       "      <td>3.000000</td>\n",
       "      <td>80.000000</td>\n",
       "      <td>8.000000</td>\n",
       "      <td>6.000000</td>\n",
       "      <td>512.329200</td>\n",
       "    </tr>\n",
       "  </tbody>\n",
       "</table>\n",
       "</div>"
      ],
      "text/plain": [
       "       PassengerId    Survived      Pclass         Age       SibSp  \\\n",
       "count   891.000000  891.000000  891.000000  714.000000  891.000000   \n",
       "mean    446.000000    0.383838    2.308642   29.699118    0.523008   \n",
       "std     257.353842    0.486592    0.836071   14.526497    1.102743   \n",
       "min       1.000000    0.000000    1.000000    0.420000    0.000000   \n",
       "25%     223.500000    0.000000    2.000000   20.125000    0.000000   \n",
       "50%     446.000000    0.000000    3.000000   28.000000    0.000000   \n",
       "75%     668.500000    1.000000    3.000000   38.000000    1.000000   \n",
       "max     891.000000    1.000000    3.000000   80.000000    8.000000   \n",
       "\n",
       "            Parch        Fare  \n",
       "count  891.000000  891.000000  \n",
       "mean     0.381594   32.204208  \n",
       "std      0.806057   49.693429  \n",
       "min      0.000000    0.000000  \n",
       "25%      0.000000    7.910400  \n",
       "50%      0.000000   14.454200  \n",
       "75%      0.000000   31.000000  \n",
       "max      6.000000  512.329200  "
      ]
     },
     "execution_count": 5,
     "metadata": {},
     "output_type": "execute_result"
    }
   ],
   "source": [
    "training.describe()"
   ]
  },
  {
   "cell_type": "code",
   "execution_count": 6,
   "id": "6401d112",
   "metadata": {},
   "outputs": [
    {
     "data": {
      "text/plain": [
       "Survived\n",
       "0    549\n",
       "1    342\n",
       "Name: count, dtype: int64"
      ]
     },
     "execution_count": 6,
     "metadata": {},
     "output_type": "execute_result"
    }
   ],
   "source": [
    "#give the count of unique values of the column\n",
    "training['Survived'].value_counts()"
   ]
  },
  {
   "cell_type": "code",
   "execution_count": 7,
   "id": "0e5609a5",
   "metadata": {},
   "outputs": [
    {
     "data": {
      "text/plain": [
       "Survived\n",
       "0    0.616162\n",
       "1    0.383838\n",
       "Name: proportion, dtype: float64"
      ]
     },
     "execution_count": 7,
     "metadata": {},
     "output_type": "execute_result"
    }
   ],
   "source": [
    "#give the relative frequencies of the unique values\n",
    "training['Survived'].value_counts(normalize=True)"
   ]
  },
  {
   "cell_type": "code",
   "execution_count": 8,
   "id": "35e3e521",
   "metadata": {},
   "outputs": [
    {
     "data": {
      "text/plain": [
       "Pclass\n",
       "3    491\n",
       "1    216\n",
       "2    184\n",
       "Name: count, dtype: int64"
      ]
     },
     "execution_count": 8,
     "metadata": {},
     "output_type": "execute_result"
    }
   ],
   "source": [
    "training['Pclass'].value_counts()"
   ]
  },
  {
   "cell_type": "code",
   "execution_count": 9,
   "id": "7c6f399f",
   "metadata": {},
   "outputs": [
    {
     "data": {
      "text/plain": [
       "Pclass\n",
       "3    0.551066\n",
       "1    0.242424\n",
       "2    0.206510\n",
       "Name: proportion, dtype: float64"
      ]
     },
     "execution_count": 9,
     "metadata": {},
     "output_type": "execute_result"
    }
   ],
   "source": [
    "training['Pclass'].value_counts(normalize=True)"
   ]
  },
  {
   "cell_type": "markdown",
   "id": "33fe7b1a",
   "metadata": {},
   "source": [
    "**.describe()**  \n",
    "Prints the decriptive statistics for numeric and object series excluding NaN values. For numeric values the index will include: count, mean, std, min, max, percentiles (default 25, 50, 75; 50 = median).\n",
    "- Count: count excluding NaN\n",
    "- Mean: average\n",
    "- Std: standard deviation, a measure of how disperesed the data is in relation to the mean, square root of the variance\n",
    "- Min: minimum value/lowest\n",
    "- Max: maximum value/highest\n",
    "- Percentiles: the value indicates that the percentile % of the data points are less than or equal to the given value. i.e. the bottom 25% of the data falls between the minimum value and the value printed. Gives a concise summary of the distribution and central tendency (a single value that attempts to describe a set of data by identifying the middle of its distribution) of the data.  \n",
    "\n",
    "---\n",
    "\n",
    "**PassengerID**  \n",
    "There are no null values in this cloumn. Not useful since it is an arbitrary index given to the data.  \n",
    "\n",
    "**Survived**  \n",
    "Values 1,0 1= survived 0=died  \n",
    "There are no null values in this column. Even with only two possible values we can still get a good idea about the group just from the descriptive stats. For this column the mean and the standard deviation give us a good idea of the proportion of survival. If it was 50/50 we would epect the mean to be .5. Because the mean is 0.38 we know there are more dead because there are more 0s pulling the average down.  \n",
    "The standard deviation also gives an idea of the balance. If the values were 50/50 the std would be .5. If there were all 1s or all 0s the std would 0. Because the std is 0.48 we know there is more of one value than another but its not much lower so its not obnoxious. The percentiles for this column tell the same story. The median is 0, indicating there are more deaths than not, and the proportion falls somewhere between 50% and 75% because that is where the values shift from 0 to 1.  \n",
    "We can calculate the actual percent and counts.  \n",
    "\n",
    "**Pclass**  \n",
    "1, 2, 3 meaning 1st class, 2nd class, and 3rd class as a proxy for socioeconomic standing. There are no null values.  \n",
    "In this column, with 3 unique values, if they were evenly distributed the standard deviation would be 0.8165.  \n",
    "Standard deviation note: you can calculate *Coefficient of Variance* which is the percentage of the mean. This will give some idea of whether a std is high or low for the specific dataset. In this example the CV is 36.21%. The typical range of high or low is still dependent on industry context, but greater than 30% is generally considered high. Ergo we are seeing a large distribution of values in this dataset.  \n",
    "The mean, 2.31 and percentiles inidcate an assymetric distrubution specifically left skewed. Passengers were primarily 3rd class. \n",
    "Just by looking at the percentiles we know more than 50% of the passengers are 3rd class.  \n",
    "\n",
    "**Age**  \n",
    "There are 177 null values. For the 714 we have data for, they are on average 29.70. Based on the pecentiles the distribution is relatively normal, evenly distributed.  \n",
    "\n",
    "**SibSp and Parch**  \n",
    "The mean for both these categories is relatively low, 0.52 and 0.38 respectively, indicating people were traveling in small units. There were not many large families on board. The sibsp only counted husband, wife or brother, sister, stepsibling so some additional minutae is lost for fiances, mistresses, or other romantic partners.  \n",
    "\n",
    "Predominantly passengers were unmarried people aged 20-38. \n",
    "\n",
    "**Fare**  \n",
    "There is a wide distrubtion of fare prices paid. On average the fare was 32.20 (British Pound most likely but this is not specified on Kaggle). There is high variability in the fares based on the high standard deviation and the large spread of the percentiles. It is interesting to note that some are recorded as 0 in the dataset. (Maybe its just babies but I was hoping to find a way to distinguish the crew from the passengers in this data set.)  \n",
    "\n",
    "---"
   ]
  },
  {
   "cell_type": "code",
   "execution_count": 10,
   "id": "451c61a5",
   "metadata": {},
   "outputs": [
    {
     "data": {
      "text/html": [
       "<div>\n",
       "<style scoped>\n",
       "    .dataframe tbody tr th:only-of-type {\n",
       "        vertical-align: middle;\n",
       "    }\n",
       "\n",
       "    .dataframe tbody tr th {\n",
       "        vertical-align: top;\n",
       "    }\n",
       "\n",
       "    .dataframe thead th {\n",
       "        text-align: right;\n",
       "    }\n",
       "</style>\n",
       "<table border=\"1\" class=\"dataframe\">\n",
       "  <thead>\n",
       "    <tr style=\"text-align: right;\">\n",
       "      <th></th>\n",
       "      <th>Name</th>\n",
       "      <th>Sex</th>\n",
       "      <th>Ticket</th>\n",
       "      <th>Cabin</th>\n",
       "      <th>Embarked</th>\n",
       "    </tr>\n",
       "  </thead>\n",
       "  <tbody>\n",
       "    <tr>\n",
       "      <th>count</th>\n",
       "      <td>891</td>\n",
       "      <td>891</td>\n",
       "      <td>891</td>\n",
       "      <td>204</td>\n",
       "      <td>889</td>\n",
       "    </tr>\n",
       "    <tr>\n",
       "      <th>unique</th>\n",
       "      <td>891</td>\n",
       "      <td>2</td>\n",
       "      <td>681</td>\n",
       "      <td>147</td>\n",
       "      <td>3</td>\n",
       "    </tr>\n",
       "    <tr>\n",
       "      <th>top</th>\n",
       "      <td>Dooley, Mr. Patrick</td>\n",
       "      <td>male</td>\n",
       "      <td>347082</td>\n",
       "      <td>G6</td>\n",
       "      <td>S</td>\n",
       "    </tr>\n",
       "    <tr>\n",
       "      <th>freq</th>\n",
       "      <td>1</td>\n",
       "      <td>577</td>\n",
       "      <td>7</td>\n",
       "      <td>4</td>\n",
       "      <td>644</td>\n",
       "    </tr>\n",
       "  </tbody>\n",
       "</table>\n",
       "</div>"
      ],
      "text/plain": [
       "                       Name   Sex  Ticket Cabin Embarked\n",
       "count                   891   891     891   204      889\n",
       "unique                  891     2     681   147        3\n",
       "top     Dooley, Mr. Patrick  male  347082    G6        S\n",
       "freq                      1   577       7     4      644"
      ]
     },
     "execution_count": 10,
     "metadata": {},
     "output_type": "execute_result"
    }
   ],
   "source": [
    "training.describe(include=[object])"
   ]
  },
  {
   "cell_type": "markdown",
   "id": "97fb5587",
   "metadata": {},
   "source": [
    "Normally, with a mixed df it would default to only doing the numeric cloumns. You can change the include parameter to adjust.\n",
    "For object data (strings, timestamps) the index would have count, unique, top, freq. Timestamps also have first and last.\n",
    "- Top: most common value, arbitraily chosen from among those with the highest count if there are multiple\n",
    "- Freq: the most common values frequency\n",
    "- Unique: number of unique values  \n",
    "\n",
    "---\n",
    "\n",
    "**Name**  \n",
    "The frequency of 1 indicates that no one has the same name, boring.  \n",
    "\n",
    "**Sex**  \n",
    "The values are saved as strings. I would prefer the values to be saved as arbitrary 0, 1 so we could get descriptive stats instead, but from the frequency the passengers were predominantly male.  \n",
    "\n",
    "**Ticket and Cabin**  \n",
    "These columns are strings. There ay be some insight to pull from these values later but there is nothing interesting indicated from the raw top and freq.  \n",
    "\n",
    "**Embarked**  \n",
    "Only 2 null values. The 3 destinations to embark from C = Cherbourg, Q = Queenstown, S = Southampton. Most passengers are marked as embarking from Sothhampton. "
   ]
  },
  {
   "cell_type": "markdown",
   "id": "1c047832",
   "metadata": {},
   "source": [
    "### Thoughts and Notes  \n",
    "- I would like to be able to distinguish crew from other passengers in the data. Maybe there is a way to based on ticket or fare paid, or need to research the kaggle dataset more to determine if the crew was excluded. Are all passengers accounted for in this dataset?  \n",
    "- I'd prefer the gender to be 0,1 instead of strings **TODO**  \n",
    "- Interesting things to pull out to look at in no particular order: \n",
    "  - titles in names\n",
    "  - cabin indicating location on the ship\n",
    "  - fare being related to crew, or being related to babies\n",
    "  - embark location having any relation to class, cabin, survival  \n",
    "  - family ties having any relation to survival\n",
    "  - associations with gender, class, and age with survival\n",
    "  - is there anything interesting about which passengers have null values in certain columns. Age is the only numeric column with nulls. **TODO** take that into account when deciding what to do with these values. It may not be apropriate to slap an average on them as it may skew the data. They could be babies who presumably were more likely to die. "
   ]
  },
  {
   "cell_type": "code",
   "execution_count": null,
   "id": "18ce54c1",
   "metadata": {},
   "outputs": [
    {
     "data": {
      "text/plain": [
       "Index(['PassengerId', 'Survived', 'Pclass', 'Age', 'SibSp', 'Parch', 'Fare'], dtype='object')"
      ]
     },
     "execution_count": 11,
     "metadata": {},
     "output_type": "execute_result"
    }
   ],
   "source": [
    "#because .describe() defaults to numeric, \n",
    "# this is a quick way to pull out columns with numeric values\n",
    "training.describe().columns"
   ]
  },
  {
   "cell_type": "code",
   "execution_count": 22,
   "id": "8d30cdd1",
   "metadata": {},
   "outputs": [],
   "source": [
    "#distinguish numeric vs categorical\n",
    "df_num_cols = ['Age', 'SibSp', 'Parch','Fare']\n",
    "df_num = training[df_num_cols]\n",
    "\n",
    "df_cat_cols = ['Survived', 'Pclass', 'Sex', 'Ticket', 'Cabin', 'Embarked']\n",
    "df_cat = training[df_cat_cols]"
   ]
  },
  {
   "cell_type": "code",
   "execution_count": 23,
   "id": "9b44f46e",
   "metadata": {},
   "outputs": [
    {
     "data": {
      "image/png": "[encoded data removed]",
      "text/plain": [
       "<Figure size 640x480 with 1 Axes>"
      ]
     },
     "metadata": {},
     "output_type": "display_data"
    },
    {
     "data": {
      "image/png": "[encoded data removed]",
      "text/plain": [
       "<Figure size 640x480 with 1 Axes>"
      ]
     },
     "metadata": {},
     "output_type": "display_data"
    },
    {
     "data": {
      "image/png": "[encoded data removed]",
      "text/plain": [
       "<Figure size 640x480 with 1 Axes>"
      ]
     },
     "metadata": {},
     "output_type": "display_data"
    },
    {
     "data": {
      "image/png": "[encoded data removed]",
      "text/plain": [
       "<Figure size 640x480 with 1 Axes>"
      ]
     },
     "metadata": {},
     "output_type": "display_data"
    }
   ],
   "source": [
    "#distributions for the numeric columns\n",
    "for i in df_num.columns:\n",
    "    plt.hist(df_num[i])\n",
    "    plt.title(i)\n",
    "    plt.show()"
   ]
  },
  {
   "cell_type": "markdown",
   "id": "343c9440",
   "metadata": {},
   "source": [
    "### Normalize  \n",
    "You should normalize skewed data when:  \n",
    "1. The model you're training assumes a normal distribution\n",
    "  - Linear/Logisitc Regression, Prinicpal Component Analysis, t-test/ANOVA, etc\n",
    "    - We will definitely be trying out a regression so we will want to normalize some of these, BUT the skew may be meaningful for our outcome\n",
    "  - Distance based models: K-Nearest Neighbors, Support Vector Machine, etc\n",
    "2. Reduce the influence of outliers\n",
    "  - very applicable to our dataset\n",
    "\n",
    "You should NOT normalize when:  \n",
    "1. The model doesn't care\n",
    "2. The skew carries meaningful information (income distribution)\n",
    "3. The original scale is important to the interpretibility"
   ]
  },
  {
   "cell_type": "markdown",
   "id": "4195414d",
   "metadata": {},
   "source": [
    "---\n",
    "### Correlation  \n",
    "Check for correlation between features as part of the EDA/preprocessing. Highly correlated features can be redundant. Linear models like linear/logisitc regression assume features are **independent**. "
   ]
  },
  {
   "cell_type": "code",
   "execution_count": 24,
   "id": "78a3026b",
   "metadata": {},
   "outputs": [
    {
     "name": "stdout",
     "output_type": "stream",
     "text": [
      "            Age     SibSp     Parch      Fare\n",
      "Age    1.000000 -0.308247 -0.189119  0.096067\n",
      "SibSp -0.308247  1.000000  0.414838  0.159651\n",
      "Parch -0.189119  0.414838  1.000000  0.216225\n",
      "Fare   0.096067  0.159651  0.216225  1.000000\n"
     ]
    },
    {
     "data": {
      "text/plain": [
       "<Axes: >"
      ]
     },
     "execution_count": 24,
     "metadata": {},
     "output_type": "execute_result"
    },
    {
     "data": {
      "image/png": "[encoded data removed]",
      "text/plain": [
       "<Figure size 640x480 with 2 Axes>"
      ]
     },
     "metadata": {},
     "output_type": "display_data"
    }
   ],
   "source": [
    "print(df_num.corr())\n",
    "sns.heatmap(df_num.corr())"
   ]
  },
  {
   "cell_type": "code",
   "execution_count": 16,
   "id": "ed90fbc1",
   "metadata": {},
   "outputs": [
    {
     "name": "stdout",
     "output_type": "stream",
     "text": [
      "SibSp  Parch    0.414838\n",
      "Parch  Fare     0.216225\n",
      "SibSp  Fare     0.159651\n",
      "Age    Fare     0.096067\n",
      "       Parch   -0.189119\n",
      "       SibSp   -0.308247\n",
      "dtype: float64\n"
     ]
    }
   ],
   "source": [
    "#list the correlation values, descending\n",
    "\n",
    "#get correlation matrix and unstack to get pairs\n",
    "corr_matrix = df_num.corr()\n",
    "corr_pairs = corr_matrix.unstack()\n",
    "#drop self correlations (variable correlating with itself = 1)\n",
    "corr_pairs = corr_pairs[corr_pairs.index.get_level_values(0) != corr_pairs.index.get_level_values(1)]\n",
    "#drop duplicate pairs\n",
    "corr_pairs = corr_pairs.drop_duplicates()\n",
    "#sort by descending\n",
    "sorted_corr = corr_pairs.sort_values(ascending=False)\n",
    "\n",
    "print(sorted_corr)"
   ]
  },
  {
   "cell_type": "markdown",
   "id": "f18ac4ff",
   "metadata": {},
   "source": [
    "Our numerical values are not highly correlated with eachother. 0.41 is moderate."
   ]
  },
  {
   "cell_type": "code",
   "execution_count": 25,
   "id": "a09dd5a7",
   "metadata": {},
   "outputs": [
    {
     "data": {
      "text/html": [
       "<div>\n",
       "<style scoped>\n",
       "    .dataframe tbody tr th:only-of-type {\n",
       "        vertical-align: middle;\n",
       "    }\n",
       "\n",
       "    .dataframe tbody tr th {\n",
       "        vertical-align: top;\n",
       "    }\n",
       "\n",
       "    .dataframe thead th {\n",
       "        text-align: right;\n",
       "    }\n",
       "</style>\n",
       "<table border=\"1\" class=\"dataframe\">\n",
       "  <thead>\n",
       "    <tr style=\"text-align: right;\">\n",
       "      <th></th>\n",
       "      <th>Age</th>\n",
       "      <th>Fare</th>\n",
       "      <th>Parch</th>\n",
       "      <th>SibSp</th>\n",
       "    </tr>\n",
       "    <tr>\n",
       "      <th>Survived</th>\n",
       "      <th></th>\n",
       "      <th></th>\n",
       "      <th></th>\n",
       "      <th></th>\n",
       "    </tr>\n",
       "  </thead>\n",
       "  <tbody>\n",
       "    <tr>\n",
       "      <th>0</th>\n",
       "      <td>30.626179</td>\n",
       "      <td>22.117887</td>\n",
       "      <td>0.329690</td>\n",
       "      <td>0.553734</td>\n",
       "    </tr>\n",
       "    <tr>\n",
       "      <th>1</th>\n",
       "      <td>28.343690</td>\n",
       "      <td>48.395408</td>\n",
       "      <td>0.464912</td>\n",
       "      <td>0.473684</td>\n",
       "    </tr>\n",
       "  </tbody>\n",
       "</table>\n",
       "</div>"
      ],
      "text/plain": [
       "                Age       Fare     Parch     SibSp\n",
       "Survived                                          \n",
       "0         30.626179  22.117887  0.329690  0.553734\n",
       "1         28.343690  48.395408  0.464912  0.473684"
      ]
     },
     "execution_count": 25,
     "metadata": {},
     "output_type": "execute_result"
    }
   ],
   "source": [
    "#correlation with survival across age, sibsp, parch, and fare\n",
    "#shows the mean of the column across each group\n",
    "pd.pivot_table(training, index = 'Survived', values = df_num_cols)"
   ]
  },
  {
   "cell_type": "code",
   "execution_count": null,
   "id": "37ac7f55",
   "metadata": {},
   "outputs": [
    {
     "data": {
      "image/png": "[encoded data removed]",
      "text/plain": [
       "<Figure size 640x480 with 2 Axes>"
      ]
     },
     "metadata": {},
     "output_type": "display_data"
    }
   ],
   "source": [
    "#add in survival\n",
    "df_num_survive = training[['Age', 'SibSp', 'Parch','Fare', 'Survived']]\n",
    "\n",
    "# Compute the correlation matrix\n",
    "num_survive_corr = df_num_survive.corr()\n",
    "\n",
    "# Focus on correlation with 'Survived'\n",
    "survived_corr = num_survive_corr[['Survived']]\n",
    "#plt.figure(figsize=(6, len(survived_corr)*0.5))  # Adjust height to fit features\n",
    "\n",
    "sns.heatmap(survived_corr, annot=True, cmap='coolwarm', center=0)\n",
    "\n",
    "plt.title('Correlation of Features with Survived')\n",
    "plt.show()\n"
   ]
  },
  {
   "cell_type": "markdown",
   "id": "5dfdf56a",
   "metadata": {},
   "source": [
    "**Correlation with Normalization**  \n",
    "From earlier exploration we found that SibSp, Parch, and Fare are skewed rigth due to outliers. \n",
    "Normalize options:  \n",
    "- Log Transform\n",
    "  - Uses log(x) or log1p(x)\n",
    "  - Compress the outliers, higher values are puleld closer to center\n",
    "  - Flatten right-skewed data\n",
    "  - may distort smaller values\n",
    "  - changes the shape to be more Gaussian\n",
    "  - normalize for linear models and visualization\n",
    "- Robust Scaler\n",
    "  - Uses median and IQR\n",
    "  - Does not change the shape of the distribution, just rescales so outliers have less influence\n",
    "  - Normalize magnitudes without changing the distirbution\n",
    "I've chosen to nroamlize them with Log Transform. It compresses the high values which is useful for right skewed data. It may distort the small data. Robust Scaling is also recommended but is noted as being good for ignoring the outliers as opposed to compressing them."
   ]
  },
  {
   "cell_type": "code",
   "execution_count": 32,
   "id": "235707fe",
   "metadata": {},
   "outputs": [
    {
     "data": {
      "image/png": "[encoded data removed]",
      "text/plain": [
       "<Figure size 640x480 with 2 Axes>"
      ]
     },
     "metadata": {},
     "output_type": "display_data"
    }
   ],
   "source": [
    "#Normalize SibSp, Parch, and Fare since they were skewed right\n",
    "#log1p(x) because of the zeros, more precise for small values\n",
    "\n",
    "cols_to_log = ['SibSp', 'Parch','Fare']\n",
    "log_df = training[cols_to_log].apply(np.log1p)\n",
    "\n",
    "log_survive_df = log_df.assign(Survived=training['Survived']) #assign because index is preserved\n",
    "\n",
    "log_survive_corr = log_survive_df.corr()\n",
    "\n",
    "# Focus on correlation with 'Survived'\n",
    "log_survive_corr = log_survive_corr[['Survived']]\n",
    "#plt.figure(figsize=(6, len(survived_corr)*0.5))  # Adjust height to fit features\n",
    "\n",
    "sns.heatmap(log_survive_corr, annot=True, cmap='coolwarm', center=0)\n",
    "\n",
    "plt.title('Correlation of Normalized Features with Survived')\n",
    "plt.show()\n"
   ]
  },
  {
   "cell_type": "code",
   "execution_count": 33,
   "id": "8cfc1748",
   "metadata": {},
   "outputs": [
    {
     "data": {
      "image/png": "[encoded data removed]",
      "text/plain": [
       "<Figure size 640x480 with 1 Axes>"
      ]
     },
     "metadata": {},
     "output_type": "display_data"
    },
    {
     "data": {
      "image/png": "[encoded data removed]",
      "text/plain": [
       "<Figure size 640x480 with 1 Axes>"
      ]
     },
     "metadata": {},
     "output_type": "display_data"
    },
    {
     "data": {
      "image/png": "[encoded data removed]",
      "text/plain": [
       "<Figure size 640x480 with 1 Axes>"
      ]
     },
     "metadata": {},
     "output_type": "display_data"
    },
    {
     "data": {
      "image/png": "[encoded data removed]",
      "text/plain": [
       "<Figure size 640x480 with 1 Axes>"
      ]
     },
     "metadata": {},
     "output_type": "display_data"
    }
   ],
   "source": [
    "#distributions for the normalized numeric columns\n",
    "for i in log_survive_df.columns:\n",
    "    plt.hist(log_survive_df[i])\n",
    "    plt.title(i)\n",
    "    plt.show()"
   ]
  },
  {
   "cell_type": "markdown",
   "id": "e9f1f0a1",
   "metadata": {},
   "source": [
    "**Normalization and Numerical Correlation Notes**  \n",
    "For the numerical values there's not any high correlation between the features, so we can assume they're independent.  \n",
    "SibSp and Parch, because of the predominant 0s, were not prticularly impacted. Fare, however, does become normalized after applying the log transform.  \n",
    "Looking at the correlation after normalization, we see similar correlation values. SibSp and Parch does not have any independent effect on the survivorship. Fare, before and after normalization, had minor correlation on survivorship. If we're looking to narrow down features, normalized fare should be included in training.  "
   ]
  },
  {
   "cell_type": "code",
   "execution_count": 42,
   "id": "b1d4c438",
   "metadata": {},
   "outputs": [
    {
     "name": "stdout",
     "output_type": "stream",
     "text": [
      "Pclass      1   2    3\n",
      "Survived              \n",
      "0          80  97  372\n",
      "1         136  87  119\n",
      "\n",
      "Sex       female  male\n",
      "Survived              \n",
      "0             81   468\n",
      "1            233   109\n",
      "\n",
      "Embarked   C   Q    S\n",
      "Survived             \n",
      "0         75  47  427\n",
      "1         93  30  217\n",
      "\n"
     ]
    }
   ],
   "source": [
    "# Comparing survival and each of these categorical variables \n",
    "for i in ['Pclass', 'Sex', 'Embarked']:\n",
    "    print(pd.pivot_table(training, index = 'Survived', columns = i, values = 'PassengerId' ,aggfunc ='count'))\n",
    "    print()\n"
   ]
  },
  {
   "cell_type": "code",
   "execution_count": 47,
   "id": "e64f1ca6",
   "metadata": {},
   "outputs": [
    {
     "name": "stdout",
     "output_type": "stream",
     "text": [
      "Pclass      1   2    3\n",
      "Survived              \n",
      "0          80  97  372\n",
      "1         136  87  119\n",
      "\n",
      "Pclass           1         2         3\n",
      "Survived                              \n",
      "0         0.145719  0.176685  0.677596\n",
      "1         0.397661  0.254386  0.347953\n",
      "\n",
      "Sex       female  male\n",
      "Survived              \n",
      "0             81   468\n",
      "1            233   109\n",
      "\n",
      "Sex         female      male\n",
      "Survived                    \n",
      "0         0.147541  0.852459\n",
      "1         0.681287  0.318713\n",
      "\n",
      "Embarked   C   Q    S\n",
      "Survived             \n",
      "0         75  47  427\n",
      "1         93  30  217\n",
      "\n",
      "Embarked         C         Q         S\n",
      "Survived                              \n",
      "0         0.136612  0.085610  0.777778\n",
      "1         0.273529  0.088235  0.638235\n",
      "\n"
     ]
    }
   ],
   "source": [
    "for i in ['Pclass', 'Sex', 'Embarked']:\n",
    "    pivot = pd.pivot_table(training, index = 'Survived', columns = i, values = 'PassengerId' ,aggfunc ='count')\n",
    "    print(pivot)\n",
    "    print()\n",
    "    #divide each row by the sum\n",
    "    #numerator.div(denomenator, for each row)\n",
    "    print(pivot.div(pivot.sum(axis=1), axis=0))\n",
    "    print()"
   ]
  },
  {
   "cell_type": "markdown",
   "id": "1739af79",
   "metadata": {},
   "source": [
    "The above pivot tables show the percent per group within survived/died.\n",
    "i.e. Pclass: Of the passengers who died 15% were 1st class, 18% were 2nd class, and 68% were 3rd class. Of the passengers who lived 40% were 1st class, 25% were 2nd class, and 34% 3rd class. \n",
    "\n",
    "In the group who died there is a higher representation of 3rd class passengers, males, and passengers embarking from Southhampton.\n",
    "However, this is skewed by the larger number of pasengers in each of those groups. "
   ]
  },
  {
   "cell_type": "code",
   "execution_count": 55,
   "id": "71d18b56",
   "metadata": {},
   "outputs": [
    {
     "name": "stdout",
     "output_type": "stream",
     "text": [
      "Survived    0    1\n",
      "Pclass            \n",
      "1          80  136\n",
      "2          97   87\n",
      "3         372  119\n",
      "\n",
      "Survived         0         1\n",
      "Pclass                      \n",
      "1         0.370370  0.629630\n",
      "2         0.527174  0.472826\n",
      "3         0.757637  0.242363\n",
      "Survived    0    1\n",
      "Sex               \n",
      "female     81  233\n",
      "male      468  109\n",
      "\n",
      "Survived         0         1\n",
      "Sex                         \n",
      "female    0.257962  0.742038\n",
      "male      0.811092  0.188908\n",
      "Survived    0    1\n",
      "Embarked          \n",
      "C          75   93\n",
      "Q          47   30\n",
      "S         427  217\n",
      "\n",
      "Survived         0         1\n",
      "Embarked                    \n",
      "C         0.446429  0.553571\n",
      "Q         0.610390  0.389610\n",
      "S         0.663043  0.336957\n"
     ]
    }
   ],
   "source": [
    "#Survival rate within each group\n",
    "for i in ['Pclass', 'Sex', 'Embarked']:\n",
    "    confusion = pd.crosstab(training[i], training['Survived'])\n",
    "    print(confusion)\n",
    "    print()\n",
    "    confusion = pd.crosstab(training[i], training['Survived'], normalize='index')\n",
    "    print(confusion)"
   ]
  },
  {
   "cell_type": "markdown",
   "id": "4fd4d620",
   "metadata": {},
   "source": [
    "The above matrices show the rate within each group. \n",
    "i.e. Pclass: Of the 3rd class passengers, 76% died and 24% lived compared to 1st class passengers where only 37% died and 63% lived. Being a 3rd class passenger meant a high chance of dying. "
   ]
  },
  {
   "cell_type": "markdown",
   "id": "88d45aab",
   "metadata": {},
   "source": [
    "**Crosstab vs Pivot Table**  \n",
    "Crosstab:\n",
    "- Categorical vs categorical\n",
    "- Frequency tables / confusion matrices\n",
    "- Quick summaries with counts\n",
    "\n",
    "Pivot Table:\n",
    "- Numeric summaries grouped by one or more columns\n",
    "-Choose aggregation function (mean, sum, count, std, etc)\n",
    "- More complex group-by like tasks"
   ]
  }
 ],
 "metadata": {
  "kernelspec": {
   "display_name": ".env",
   "language": "python",
   "name": "python3"
  },
  "language_info": {
   "codemirror_mode": {
    "name": "ipython",
    "version": 3
   },
   "file_extension": ".py",
   "mimetype": "text/x-python",
   "name": "python",
   "nbconvert_exporter": "python",
   "pygments_lexer": "ipython3",
   "version": "3.10.12"
  }
 },
 "nbformat": 4,
 "nbformat_minor": 5
}
